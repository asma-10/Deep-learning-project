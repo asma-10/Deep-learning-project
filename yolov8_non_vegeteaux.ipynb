{
 "cells": [
  {
   "cell_type": "code",
   "execution_count": 1,
   "metadata": {},
   "outputs": [
    {
     "name": "stdout",
     "output_type": "stream",
     "text": [
      "Requirement already satisfied: torch in /Users/cheimamezdour/miniconda3/lib/python3.10/site-packages (2.1.0)\n",
      "Requirement already satisfied: torchvision in /Users/cheimamezdour/miniconda3/lib/python3.10/site-packages (0.16.0)\n",
      "Requirement already satisfied: filelock in /Users/cheimamezdour/miniconda3/lib/python3.10/site-packages (from torch) (3.12.2)\n",
      "Requirement already satisfied: typing-extensions in /Users/cheimamezdour/miniconda3/lib/python3.10/site-packages (from torch) (4.7.1)\n",
      "Requirement already satisfied: sympy in /Users/cheimamezdour/miniconda3/lib/python3.10/site-packages (from torch) (1.12)\n",
      "Requirement already satisfied: networkx in /Users/cheimamezdour/miniconda3/lib/python3.10/site-packages (from torch) (3.2.1)\n",
      "Requirement already satisfied: jinja2 in /Users/cheimamezdour/miniconda3/lib/python3.10/site-packages (from torch) (3.1.2)\n",
      "Requirement already satisfied: fsspec in /Users/cheimamezdour/miniconda3/lib/python3.10/site-packages (from torch) (2023.6.0)\n",
      "Requirement already satisfied: numpy in /Users/cheimamezdour/miniconda3/lib/python3.10/site-packages (from torchvision) (1.23.5)\n",
      "Requirement already satisfied: requests in /Users/cheimamezdour/miniconda3/lib/python3.10/site-packages (from torchvision) (2.31.0)\n",
      "Requirement already satisfied: pillow!=8.3.*,>=5.3.0 in /Users/cheimamezdour/miniconda3/lib/python3.10/site-packages (from torchvision) (9.5.0)\n",
      "Requirement already satisfied: MarkupSafe>=2.0 in /Users/cheimamezdour/miniconda3/lib/python3.10/site-packages (from jinja2->torch) (2.1.1)\n",
      "Requirement already satisfied: charset-normalizer<4,>=2 in /Users/cheimamezdour/miniconda3/lib/python3.10/site-packages (from requests->torchvision) (2.0.4)\n",
      "Requirement already satisfied: idna<4,>=2.5 in /Users/cheimamezdour/miniconda3/lib/python3.10/site-packages (from requests->torchvision) (3.4)\n",
      "Requirement already satisfied: urllib3<3,>=1.21.1 in /Users/cheimamezdour/miniconda3/lib/python3.10/site-packages (from requests->torchvision) (1.26.18)\n",
      "Requirement already satisfied: certifi>=2017.4.17 in /Users/cheimamezdour/miniconda3/lib/python3.10/site-packages (from requests->torchvision) (2023.11.17)\n",
      "Requirement already satisfied: mpmath>=0.19 in /Users/cheimamezdour/miniconda3/lib/python3.10/site-packages (from sympy->torch) (1.3.0)\n"
     ]
    }
   ],
   "source": [
    "# Install dependencies\n",
    "!pip install torch torchvision"
   ]
  },
  {
   "cell_type": "code",
   "execution_count": 2,
   "metadata": {},
   "outputs": [
    {
     "name": "stdout",
     "output_type": "stream",
     "text": [
      "Requirement already satisfied: numpy in /Users/cheimamezdour/miniconda3/lib/python3.10/site-packages (1.23.5)\n",
      "Requirement already satisfied: opencv-python in /Users/cheimamezdour/miniconda3/lib/python3.10/site-packages (4.8.1.78)\n",
      "Cloning into 'yolov5'...\n",
      "remote: Enumerating objects: 16088, done.\u001b[K\n",
      "remote: Counting objects: 100% (32/32), done.\u001b[K\n",
      "remote: Compressing objects: 100% (30/30), done.\u001b[K\n",
      "remote: Total 16088 (delta 10), reused 14 (delta 2), pack-reused 16056\u001b[K\n",
      "Receiving objects: 100% (16088/16088), 14.71 MiB | 169.00 KiB/s, done.\n",
      "Resolving deltas: 100% (11038/11038), done.\n"
     ]
    }
   ],
   "source": [
    "!pip install numpy opencv-python\n",
    "\n",
    "# Clone the YOLOv8 repository\n",
    "!git clone https://github.com/ultralytics/yolov5.git"
   ]
  },
  {
   "cell_type": "code",
   "execution_count": null,
   "metadata": {},
   "outputs": [],
   "source": []
  }
 ],
 "metadata": {
  "kernelspec": {
   "display_name": "base",
   "language": "python",
   "name": "python3"
  },
  "language_info": {
   "codemirror_mode": {
    "name": "ipython",
    "version": 3
   },
   "file_extension": ".py",
   "mimetype": "text/x-python",
   "name": "python",
   "nbconvert_exporter": "python",
   "pygments_lexer": "ipython3",
   "version": "3.10.13"
  }
 },
 "nbformat": 4,
 "nbformat_minor": 2
}
